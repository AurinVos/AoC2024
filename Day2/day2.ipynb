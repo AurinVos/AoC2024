{
 "cells": [
  {
   "cell_type": "code",
   "execution_count": 203,
   "metadata": {},
   "outputs": [],
   "source": [
    "import pandas as pd\n",
    "import numpy as np\n",
    "import seaborn as sns"
   ]
  },
  {
   "cell_type": "code",
   "execution_count": 80,
   "metadata": {},
   "outputs": [
    {
     "data": {
      "text/html": [
       "<div>\n",
       "<style scoped>\n",
       "    .dataframe tbody tr th:only-of-type {\n",
       "        vertical-align: middle;\n",
       "    }\n",
       "\n",
       "    .dataframe tbody tr th {\n",
       "        vertical-align: top;\n",
       "    }\n",
       "\n",
       "    .dataframe thead th {\n",
       "        text-align: right;\n",
       "    }\n",
       "</style>\n",
       "<table border=\"1\" class=\"dataframe\">\n",
       "  <thead>\n",
       "    <tr style=\"text-align: right;\">\n",
       "      <th></th>\n",
       "      <th>0</th>\n",
       "      <th>1</th>\n",
       "      <th>2</th>\n",
       "      <th>3</th>\n",
       "      <th>4</th>\n",
       "      <th>increasing</th>\n",
       "      <th>decreasing</th>\n",
       "      <th>diff_min</th>\n",
       "      <th>diff_max</th>\n",
       "      <th>diff_zero</th>\n",
       "      <th>max_diff_3</th>\n",
       "      <th>is_safe</th>\n",
       "    </tr>\n",
       "  </thead>\n",
       "  <tbody>\n",
       "    <tr>\n",
       "      <th>0</th>\n",
       "      <td>7</td>\n",
       "      <td>6</td>\n",
       "      <td>4</td>\n",
       "      <td>2</td>\n",
       "      <td>1</td>\n",
       "      <td>False</td>\n",
       "      <td>True</td>\n",
       "      <td>2</td>\n",
       "      <td>1</td>\n",
       "      <td>0</td>\n",
       "      <td>0</td>\n",
       "      <td>True</td>\n",
       "    </tr>\n",
       "    <tr>\n",
       "      <th>1</th>\n",
       "      <td>1</td>\n",
       "      <td>2</td>\n",
       "      <td>7</td>\n",
       "      <td>8</td>\n",
       "      <td>9</td>\n",
       "      <td>True</td>\n",
       "      <td>False</td>\n",
       "      <td>1</td>\n",
       "      <td>5</td>\n",
       "      <td>0</td>\n",
       "      <td>1</td>\n",
       "      <td>False</td>\n",
       "    </tr>\n",
       "    <tr>\n",
       "      <th>2</th>\n",
       "      <td>9</td>\n",
       "      <td>7</td>\n",
       "      <td>6</td>\n",
       "      <td>2</td>\n",
       "      <td>1</td>\n",
       "      <td>False</td>\n",
       "      <td>True</td>\n",
       "      <td>4</td>\n",
       "      <td>1</td>\n",
       "      <td>0</td>\n",
       "      <td>1</td>\n",
       "      <td>False</td>\n",
       "    </tr>\n",
       "    <tr>\n",
       "      <th>3</th>\n",
       "      <td>1</td>\n",
       "      <td>3</td>\n",
       "      <td>2</td>\n",
       "      <td>4</td>\n",
       "      <td>5</td>\n",
       "      <td>False</td>\n",
       "      <td>False</td>\n",
       "      <td>1</td>\n",
       "      <td>2</td>\n",
       "      <td>0</td>\n",
       "      <td>0</td>\n",
       "      <td>False</td>\n",
       "    </tr>\n",
       "    <tr>\n",
       "      <th>4</th>\n",
       "      <td>8</td>\n",
       "      <td>6</td>\n",
       "      <td>4</td>\n",
       "      <td>4</td>\n",
       "      <td>1</td>\n",
       "      <td>False</td>\n",
       "      <td>True</td>\n",
       "      <td>3</td>\n",
       "      <td>0</td>\n",
       "      <td>1</td>\n",
       "      <td>0</td>\n",
       "      <td>False</td>\n",
       "    </tr>\n",
       "    <tr>\n",
       "      <th>5</th>\n",
       "      <td>1</td>\n",
       "      <td>3</td>\n",
       "      <td>6</td>\n",
       "      <td>7</td>\n",
       "      <td>9</td>\n",
       "      <td>True</td>\n",
       "      <td>False</td>\n",
       "      <td>1</td>\n",
       "      <td>3</td>\n",
       "      <td>0</td>\n",
       "      <td>0</td>\n",
       "      <td>True</td>\n",
       "    </tr>\n",
       "  </tbody>\n",
       "</table>\n",
       "</div>"
      ],
      "text/plain": [
       "   0  1  2  3  4  increasing  decreasing  diff_min  diff_max  diff_zero  \\\n",
       "0  7  6  4  2  1       False        True         2         1          0   \n",
       "1  1  2  7  8  9        True       False         1         5          0   \n",
       "2  9  7  6  2  1       False        True         4         1          0   \n",
       "3  1  3  2  4  5       False       False         1         2          0   \n",
       "4  8  6  4  4  1       False        True         3         0          1   \n",
       "5  1  3  6  7  9        True       False         1         3          0   \n",
       "\n",
       "   max_diff_3  is_safe  \n",
       "0           0     True  \n",
       "1           1    False  \n",
       "2           1    False  \n",
       "3           0    False  \n",
       "4           0    False  \n",
       "5           0     True  "
      ]
     },
     "execution_count": 80,
     "metadata": {},
     "output_type": "execute_result"
    }
   ],
   "source": [
    "(\n",
    " pd.read_csv(\"day2.example\", sep=' ', header=None)\n",
    " .assign(increasing=lambda x: [x.loc(axis=0)[i].is_monotonic_increasing for i in x.index])\n",
    " .assign(decreasing=lambda x: [x.loc(axis=0)[i].is_monotonic_decreasing for i in x.index])\n",
    " .assign(diff_min= lambda x: [abs(x.loc(axis=0)[i].iloc[0:5].diff().min()) for i in x.index])\n",
    " .assign(diff_max= lambda x: [abs(x.loc(axis=0)[i].iloc[0:5].diff().max()) for i in x.index])\n",
    " .assign(diff_zero= lambda x: [sum(x.loc(axis=0)[i].iloc[0:5].diff() == 0) for i in x.index])\n",
    " .assign(max_diff_3= lambda x: [x.loc(axis=0)[i][['diff_min','diff_max']].gt(3).sum() for i in x.index])\n",
    " .assign(is_safe= lambda x: [x.loc(axis=0)[i][['increasing','decreasing','max_diff_3','diff_zero']].sum() == 1 for i in x.index])\n",
    ")"
   ]
  },
  {
   "cell_type": "code",
   "execution_count": 173,
   "metadata": {},
   "outputs": [
    {
     "data": {
      "text/plain": [
       "np.float64(402.0)"
      ]
     },
     "execution_count": 173,
     "metadata": {},
     "output_type": "execute_result"
    }
   ],
   "source": [
    "(\n",
    " pd.read_csv(\"day2.input\", sep=' ', header=None, names=[0,1,2,3,4,5,6,7])\n",
    " .assign(increasing=lambda x: [x.loc(axis=0)[i].dropna().is_monotonic_increasing for i in x.index])\n",
    " .assign(decreasing=lambda x: [x.loc(axis=0)[i].dropna().is_monotonic_decreasing for i in x.index])\n",
    " .assign(diff_min= lambda x: [min(abs((x.loc(axis=0)[i].iloc[0:8].dropna().diff().dropna().values))) for i in x.index])\n",
    " .assign(diff_max= lambda x: [max(abs((x.loc(axis=0)[i].iloc[0:8].dropna().diff().dropna().values))) for i in x.index])\n",
    " .assign(max_diff_3= lambda x: [x.loc(axis=0)[i][['diff_min','diff_max']].gt(3).sum() for i in x.index])\n",
    " .assign(is_safe= lambda x: x\n",
    "         .query(\"(increasing == True | decreasing == True)\")\n",
    "         .query(\"(diff_min != 0) & (max_diff_3 == 0)\")\n",
    "         .assign(dummie=1)\n",
    "         .dummie)\n",
    ").is_safe.sum()"
   ]
  },
  {
   "cell_type": "code",
   "execution_count": 196,
   "metadata": {},
   "outputs": [
    {
     "name": "stdout",
     "output_type": "stream",
     "text": [
      "1\n",
      "2\n",
      "3\n",
      "4\n",
      "5\n",
      "6\n",
      "7\n",
      "8\n"
     ]
    },
    {
     "data": {
      "text/html": [
       "<div>\n",
       "<style scoped>\n",
       "    .dataframe tbody tr th:only-of-type {\n",
       "        vertical-align: middle;\n",
       "    }\n",
       "\n",
       "    .dataframe tbody tr th {\n",
       "        vertical-align: top;\n",
       "    }\n",
       "\n",
       "    .dataframe thead th {\n",
       "        text-align: right;\n",
       "    }\n",
       "</style>\n",
       "<table border=\"1\" class=\"dataframe\">\n",
       "  <thead>\n",
       "    <tr style=\"text-align: right;\">\n",
       "      <th></th>\n",
       "      <th>is_safe_0</th>\n",
       "      <th>is_safe_1</th>\n",
       "      <th>is_safe_2</th>\n",
       "      <th>is_safe_3</th>\n",
       "      <th>is_safe_4</th>\n",
       "      <th>is_safe_5</th>\n",
       "      <th>is_safe_6</th>\n",
       "      <th>is_safe_7</th>\n",
       "    </tr>\n",
       "  </thead>\n",
       "  <tbody>\n",
       "    <tr>\n",
       "      <th>0</th>\n",
       "      <td>NaN</td>\n",
       "      <td>NaN</td>\n",
       "      <td>NaN</td>\n",
       "      <td>NaN</td>\n",
       "      <td>NaN</td>\n",
       "      <td>1.0</td>\n",
       "      <td>NaN</td>\n",
       "      <td>NaN</td>\n",
       "    </tr>\n",
       "    <tr>\n",
       "      <th>1</th>\n",
       "      <td>NaN</td>\n",
       "      <td>NaN</td>\n",
       "      <td>NaN</td>\n",
       "      <td>NaN</td>\n",
       "      <td>NaN</td>\n",
       "      <td>NaN</td>\n",
       "      <td>1.0</td>\n",
       "      <td>1.0</td>\n",
       "    </tr>\n",
       "    <tr>\n",
       "      <th>2</th>\n",
       "      <td>NaN</td>\n",
       "      <td>NaN</td>\n",
       "      <td>NaN</td>\n",
       "      <td>NaN</td>\n",
       "      <td>NaN</td>\n",
       "      <td>1.0</td>\n",
       "      <td>NaN</td>\n",
       "      <td>NaN</td>\n",
       "    </tr>\n",
       "    <tr>\n",
       "      <th>3</th>\n",
       "      <td>NaN</td>\n",
       "      <td>NaN</td>\n",
       "      <td>NaN</td>\n",
       "      <td>NaN</td>\n",
       "      <td>NaN</td>\n",
       "      <td>NaN</td>\n",
       "      <td>NaN</td>\n",
       "      <td>1.0</td>\n",
       "    </tr>\n",
       "    <tr>\n",
       "      <th>4</th>\n",
       "      <td>NaN</td>\n",
       "      <td>NaN</td>\n",
       "      <td>1.0</td>\n",
       "      <td>NaN</td>\n",
       "      <td>NaN</td>\n",
       "      <td>NaN</td>\n",
       "      <td>NaN</td>\n",
       "      <td>NaN</td>\n",
       "    </tr>\n",
       "  </tbody>\n",
       "</table>\n",
       "</div>"
      ],
      "text/plain": [
       "   is_safe_0  is_safe_1  is_safe_2  is_safe_3  is_safe_4  is_safe_5  \\\n",
       "0        NaN        NaN        NaN        NaN        NaN        1.0   \n",
       "1        NaN        NaN        NaN        NaN        NaN        NaN   \n",
       "2        NaN        NaN        NaN        NaN        NaN        1.0   \n",
       "3        NaN        NaN        NaN        NaN        NaN        NaN   \n",
       "4        NaN        NaN        1.0        NaN        NaN        NaN   \n",
       "\n",
       "   is_safe_6  is_safe_7  \n",
       "0        NaN        NaN  \n",
       "1        1.0        1.0  \n",
       "2        NaN        NaN  \n",
       "3        NaN        1.0  \n",
       "4        NaN        NaN  "
      ]
     },
     "execution_count": 196,
     "metadata": {},
     "output_type": "execute_result"
    }
   ],
   "source": [
    "def safety_check(df):\n",
    "    checked = []\n",
    "    for i in df.iloc[0:8].columns:\n",
    "        checked.append(\n",
    "            df\n",
    "            .drop(i, axis=1)\n",
    "            .assign(increasing=lambda x: [x.loc(axis=0)[i].dropna().is_monotonic_increasing for i in x.index])\n",
    "            .assign(decreasing=lambda x: [x.loc(axis=0)[i].dropna().is_monotonic_decreasing for i in x.index])\n",
    "            .assign(diff_min= lambda x: [min(abs((x.loc(axis=0)[i].iloc[0:7].dropna().diff().dropna().values))) for i in x.index])\n",
    "            .assign(diff_max= lambda x: [max(abs((x.loc(axis=0)[i].iloc[0:7].dropna().diff().dropna().values))) for i in x.index])\n",
    "            .assign(max_diff_3= lambda x: [x.loc(axis=0)[i][['diff_min','diff_max']].gt(3).sum() for i in x.index])\n",
    "            .assign(**{f\"is_safe_{i}\": lambda x: x\n",
    "                    .query(\"(increasing == True | decreasing == True)\")\n",
    "                    .query(\"(diff_min != 0) & (max_diff_3 == 0)\")\n",
    "                    .assign(dummie=1)\n",
    "                    .dummie})\n",
    "            [f\"is_safe_{i}\"]\n",
    "        )\n",
    "        print (len(checked))\n",
    "    return pd.concat(checked, axis=1)\n",
    "\n",
    "df_checked = safety_check(pd.read_csv(\"day2.input\", sep=' ', header=None, names=[0,1,2,3,4,5,6,7]))\n",
    "df_checked.head()"
   ]
  },
  {
   "cell_type": "code",
   "execution_count": 201,
   "metadata": {},
   "outputs": [
    {
     "data": {
      "text/plain": [
       "np.int64(455)"
      ]
     },
     "execution_count": 201,
     "metadata": {},
     "output_type": "execute_result"
    }
   ],
   "source": [
    "(df_checked\n",
    " .assign(buffered_safe=lambda x: x.sum(axis=1) > 0)\n",
    " .buffered_safe\n",
    " .sum()\n",
    ")"
   ]
  },
  {
   "cell_type": "code",
   "execution_count": 204,
   "metadata": {},
   "outputs": [
    {
     "data": {
      "text/plain": [
       "<Axes: >"
      ]
     },
     "execution_count": 204,
     "metadata": {},
     "output_type": "execute_result"
    },
    {
     "data": {
      "image/png": "[encoded data removed]",
      "text/plain": [
       "<Figure size 640x480 with 2 Axes>"
      ]
     },
     "metadata": {},
     "output_type": "display_data"
    }
   ],
   "source": [
    "sns.heatmap(df_checked)"
   ]
  }
 ],
 "metadata": {
  "kernelspec": {
   "display_name": "AoC2024",
   "language": "python",
   "name": "python3"
  },
  "language_info": {
   "codemirror_mode": {
    "name": "ipython",
    "version": 3
   },
   "file_extension": ".py",
   "mimetype": "text/x-python",
   "name": "python",
   "nbconvert_exporter": "python",
   "pygments_lexer": "ipython3",
   "version": "3.12.7"
  }
 },
 "nbformat": 4,
 "nbformat_minor": 2
}
