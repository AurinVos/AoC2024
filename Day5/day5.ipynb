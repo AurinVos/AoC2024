{
 "cells": [
  {
   "cell_type": "code",
   "execution_count": 14,
   "metadata": {},
   "outputs": [],
   "source": [
    "from collections import defaultdict"
   ]
  },
  {
   "cell_type": "code",
   "execution_count": 48,
   "metadata": {},
   "outputs": [
    {
     "name": "stdout",
     "output_type": "stream",
     "text": [
      "defaultdict(<class 'list'>, {'47': ['53', '13', '61', '29'], '97': ['13', '61', '47', '29', '53', '75'], '75': ['29', '53', '47', '61', '13'], '61': ['13', '53', '29'], '29': ['13'], '53': ['29', '13']})\n",
      "[['75', '47', '61', '53', '29'], ['97', '61', '53', '29', '13'], ['75', '29', '13'], ['75', '97', '47', '61', '53'], ['61', '13', '29'], ['97', '13', '75', '29', '47']]\n"
     ]
    }
   ],
   "source": [
    "\n",
    "with open(\"day5.example\", 'r') as file:\n",
    "    ordering_rules = defaultdict(list)\n",
    "    manual_updates = []\n",
    "    for line in file:\n",
    "        line = line.strip()\n",
    "        if '|' in line:\n",
    "            ordering_rules[line.split('|')[0]].append(line.split('|')[1])\n",
    "        else:\n",
    "            if len(line.split(',')) > 1:\n",
    "                manual_updates.append(line.split(','))\n",
    "    print ((ordering_rules))\n",
    "    print (manual_updates)\n"
   ]
  },
  {
   "cell_type": "code",
   "execution_count": 71,
   "metadata": {},
   "outputs": [
    {
     "name": "stdout",
     "output_type": "stream",
     "text": [
      "['75', '47', '61', '53', '29'] ['75', '47', '61', '53', '29']\n",
      "['97', '61', '53', '29', '13'] ['97', '61', '53', '29']\n",
      "['75', '29', '13'] ['75', '29']\n",
      "['75', '97', '47', '61', '53'] ['75', '97', '47', '61', '53']\n",
      "['61', '13', '29'] ['61']\n",
      "['97', '13', '75', '29', '47'] ['97', '75', '47']\n",
      "114\n"
     ]
    }
   ],
   "source": [
    "mid_page_num = []\n",
    "for update in manual_updates:\n",
    "    checked_manual_update = [j for i,j in list(enumerate(update)) \n",
    "                             if not set(ordering_rules[j]).issubset(set(update[:i+1]))\n",
    "                            ]\n",
    "    print (update, checked_manual_update)\n",
    "    if len(update) == len(checked_manual_update):\n",
    "        mid_page_num.append(int(update[int(len(update)/2)+1]))\n",
    "\n",
    "print (sum(mid_page_num))"
   ]
  },
  {
   "cell_type": "code",
   "execution_count": 66,
   "metadata": {},
   "outputs": [
    {
     "data": {
      "text/plain": [
       "([(0, ['75', '47', '61', '53', '29']),\n",
       "  (1, ['97', '61', '53', '29', '13']),\n",
       "  (2, ['75', '29', '13']),\n",
       "  (3, ['75', '97', '47', '61', '53']),\n",
       "  (4, ['61', '13', '29']),\n",
       "  (5, ['97', '13', '75', '29', '47'])],\n",
       " [['75', '47', '61', '53', '29']])"
      ]
     },
     "execution_count": 66,
     "metadata": {},
     "output_type": "execute_result"
    }
   ],
   "source": [
    "list(enumerate(manual_updates)), manual_updates[:0+1]"
   ]
  }
 ],
 "metadata": {
  "kernelspec": {
   "display_name": "AoC2024",
   "language": "python",
   "name": "python3"
  },
  "language_info": {
   "codemirror_mode": {
    "name": "ipython",
    "version": 3
   },
   "file_extension": ".py",
   "mimetype": "text/x-python",
   "name": "python",
   "nbconvert_exporter": "python",
   "pygments_lexer": "ipython3",
   "version": "3.12.7"
  }
 },
 "nbformat": 4,
 "nbformat_minor": 2
}
