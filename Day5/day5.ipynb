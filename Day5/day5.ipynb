{
 "cells": [
  {
   "cell_type": "code",
   "execution_count": 14,
   "metadata": {},
   "outputs": [],
   "source": [
    "from collections import defaultdict"
   ]
  },
  {
   "cell_type": "code",
   "execution_count": 280,
   "metadata": {},
   "outputs": [],
   "source": [
    "\n",
    "with open(\"day5.input\", 'r') as file:\n",
    "    ordering_rules = defaultdict(list)\n",
    "    manual_updates = []\n",
    "    for line in file:\n",
    "        line = line.strip()\n",
    "        if '|' in line:\n",
    "            ordering_rules[line.split('|')[0]].append(line.split('|')[1])\n",
    "        else:\n",
    "            if len(line.split(',')) > 1:\n",
    "                manual_updates.append(line.split(','))\n"
   ]
  },
  {
   "cell_type": "code",
   "execution_count": 281,
   "metadata": {},
   "outputs": [
    {
     "name": "stdout",
     "output_type": "stream",
     "text": [
      "74 3608\n"
     ]
    }
   ],
   "source": [
    "mid_page_num = []\n",
    "for update in manual_updates:\n",
    "    checked_manual_update = []\n",
    "    for i,j in list(enumerate(update)):\n",
    "        if not set(ordering_rules[j]).isdisjoint(set(update[:i+1])):\n",
    "            continue\n",
    "        else:\n",
    "            checked_manual_update.append(j)\n",
    "    if len(update) == len(checked_manual_update):\n",
    "        mid_page_num.append(int(update[int(len(update)/2)]))\n",
    "\n",
    "print (len(mid_page_num),sum(mid_page_num))"
   ]
  },
  {
   "cell_type": "markdown",
   "metadata": {},
   "source": [
    "## Part2"
   ]
  },
  {
   "cell_type": "code",
   "execution_count": 282,
   "metadata": {},
   "outputs": [],
   "source": [
    "def needs_ordering(update):\n",
    "    return_bool = False\n",
    "    for i,j in list(enumerate(update)):\n",
    "        if not set(ordering_rules[j]).isdisjoint(set(update[:i+1])):\n",
    "            return_bool = True\n",
    "        else:\n",
    "            continue\n",
    "    return return_bool\n",
    "\n",
    "def correct_update(update):\n",
    "    update = update[:]\n",
    "    while needs_ordering(update):\n",
    "        for i,j in list(enumerate(update)):\n",
    "            if i == 0:\n",
    "                continue\n",
    "            if not set(ordering_rules[j]).isdisjoint(set(update[:i+1])):\n",
    "                update[i], update[i-1] = update[i-1], update[i]\n",
    "    return update\n"
   ]
  },
  {
   "cell_type": "code",
   "execution_count": 283,
   "metadata": {},
   "outputs": [
    {
     "data": {
      "text/plain": [
       "4922"
      ]
     },
     "execution_count": 283,
     "metadata": {},
     "output_type": "execute_result"
    }
   ],
   "source": [
    "update_corr = []\n",
    "for update in manual_updates:\n",
    "    if needs_ordering(update):\n",
    "        update_corr.append(correct_update(update))\n",
    "\n",
    "sum([int(update_corr[i][int(len(update_corr[i])/2)]) for i,j in list(enumerate(update_corr))])\n"
   ]
  }
 ],
 "metadata": {
  "kernelspec": {
   "display_name": "AoC2024",
   "language": "python",
   "name": "python3"
  },
  "language_info": {
   "codemirror_mode": {
    "name": "ipython",
    "version": 3
   },
   "file_extension": ".py",
   "mimetype": "text/x-python",
   "name": "python",
   "nbconvert_exporter": "python",
   "pygments_lexer": "ipython3",
   "version": "3.12.7"
  }
 },
 "nbformat": 4,
 "nbformat_minor": 2
}
