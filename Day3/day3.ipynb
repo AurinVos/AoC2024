{
 "cells": [
  {
   "cell_type": "code",
   "execution_count": 1,
   "metadata": {},
   "outputs": [],
   "source": [
    "import re\n",
    "import pandas as pd"
   ]
  },
  {
   "cell_type": "code",
   "execution_count": 2,
   "metadata": {},
   "outputs": [
    {
     "name": "stdout",
     "output_type": "stream",
     "text": [
      "(741, 3)\n"
     ]
    }
   ],
   "source": [
    "def extract_mul(mul):\n",
    "    return [\n",
    "             i.split('mul(')[1].split(')')[0].split(',')\n",
    "             for i in muls\n",
    "           ]\n",
    "\n",
    "\n",
    "with open(\"day3.input\", 'r') as file:\n",
    "    pattern = r\"mul\\(\\-?\\d+,\\-?\\d+\\)\"\n",
    "    list_df = []\n",
    "    for line in file.readlines():\n",
    "        muls = re.findall(pattern, line)\n",
    "        list_df.append((pd.DataFrame(extract_mul(muls), columns=['left', 'right'])\n",
    "                        .astype(int)\n",
    "                        .assign(line=len(list_df))\n",
    "                        ))\n",
    "    df_muls = pd.concat(list_df, axis=0)\n",
    "\n",
    "print (df_muls.shape)"
   ]
  },
  {
   "cell_type": "code",
   "execution_count": 3,
   "metadata": {},
   "outputs": [
    {
     "data": {
      "text/plain": [
       "left             367211\n",
       "right            374740\n",
       "line               1845\n",
       "mul_result    188741603\n",
       "dtype: int64"
      ]
     },
     "execution_count": 3,
     "metadata": {},
     "output_type": "execute_result"
    }
   ],
   "source": [
    "(\n",
    " df_muls\n",
    " .assign(mul_result=lambda x: x.left.mul(x.right))\n",
    " .sum()\n",
    ")"
   ]
  },
  {
   "cell_type": "markdown",
   "metadata": {},
   "source": [
    "# Part 2"
   ]
  },
  {
   "cell_type": "code",
   "execution_count": 11,
   "metadata": {},
   "outputs": [
    {
     "name": "stdout",
     "output_type": "stream",
     "text": [
      "(282, 3)\n"
     ]
    }
   ],
   "source": [
    "def extract_and_clean_mul(mul):\n",
    "    if \"don't()\" in mul:\n",
    "        print ('error')\n",
    "    return [\n",
    "             i.split('mul(')[1].split(')')[0].split(',')\n",
    "             for i in mul if \"do\" not in i\n",
    "           ]\n",
    "\n",
    "def find_state(mul, enabled_state):\n",
    "    if \"don't()\" in mul:\n",
    "        return_state = 1\n",
    "    if \"do()\" in mul:\n",
    "        return_state = 0\n",
    "    if mul not in [\"don't()\", \"do()\"]:\n",
    "        return_state = enabled_state\n",
    "    return return_state\n",
    "\n",
    "\n",
    "with open(\"day3.input\", 'r') as file:\n",
    "    pattern = r\"mul\\(\\-?\\d+,\\-?\\d+\\)|don't\\(\\)|do\\(\\)\"\n",
    "    enabled_state = 0\n",
    "    list_enabled_df = []\n",
    "    for line in file.readlines():\n",
    "        mul_list = []\n",
    "        muls = re.findall(pattern, line)\n",
    "        for mul in muls:\n",
    "            enabled_state = find_state(mul, enabled_state)\n",
    "            if enabled_state == 0:\n",
    "                mul_list.append(mul)\n",
    "            if enabled_state == 1:\n",
    "                continue\n",
    "        list_enabled_df.append((pd.DataFrame(extract_and_clean_mul(mul_list), columns=['left', 'right'])\n",
    "                        .astype(int)\n",
    "                        .assign(line=len(list_enabled_df))\n",
    "                        ))\n",
    "    df_muls_enabled = pd.concat(list_enabled_df, axis=0)\n",
    "\n",
    "print (df_muls_enabled.shape)"
   ]
  },
  {
   "cell_type": "code",
   "execution_count": 12,
   "metadata": {},
   "outputs": [
    {
     "data": {
      "text/plain": [
       "left            135474\n",
       "right           138250\n",
       "line               627\n",
       "mul_result    67269798\n",
       "dtype: int64"
      ]
     },
     "execution_count": 12,
     "metadata": {},
     "output_type": "execute_result"
    }
   ],
   "source": [
    "(\n",
    " df_muls_enabled\n",
    " .assign(mul_result=lambda x: x.left.mul(x.right))\n",
    " .sum()\n",
    ")"
   ]
  },
  {
   "cell_type": "markdown",
   "metadata": {},
   "source": [
    "Wrong answer: 70553436"
   ]
  },
  {
   "cell_type": "markdown",
   "metadata": {},
   "source": []
  }
 ],
 "metadata": {
  "kernelspec": {
   "display_name": "AoC2024",
   "language": "python",
   "name": "python3"
  },
  "language_info": {
   "codemirror_mode": {
    "name": "ipython",
    "version": 3
   },
   "file_extension": ".py",
   "mimetype": "text/x-python",
   "name": "python",
   "nbconvert_exporter": "python",
   "pygments_lexer": "ipython3",
   "version": "3.12.7"
  }
 },
 "nbformat": 4,
 "nbformat_minor": 2
}
